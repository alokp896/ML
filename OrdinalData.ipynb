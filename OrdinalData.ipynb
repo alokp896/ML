{
 "cells": [
  {
   "cell_type": "markdown",
   "metadata": {},
   "source": [
    "# Ordinal Data conversion# \n"
   ]
  },
  {
   "cell_type": "markdown",
   "metadata": {},
   "source": [
    "As for differences in OrdinalEncoder and LabelEncoder implementation, the accepted answer mentions the shape of the data: (OrdinalEncoder for 2D data; shape (n_samples, n_features), LabelEncoder is for 1D data: for shape (n_samples,))\n",
    "\n",
    "Maybe that's why the top-voted answer suggests OrdinalEncoder is for the \"features\" (often a 2D), whereas LabelEncoder is for the \"target variable\" (often a 1D array).\n",
    "\n",
    "That's why a OrdinalEncoder would get an error:\n",
    "\n",
    "ValueError: Expected 2D array, got 1D array instead:\n",
    "...if trying to fit on 1D data: OrdinalEncoder().fit(['a','b'])\n",
    "\n",
    "However, another difference between the encoders is the name of their learned parameter;\n",
    "\n",
    "LabelEncoder learns classes_\n",
    "OrdinalEncoder learns categories_\n",
    "Notice the differences in fitting LabelEncoder vs OrdinalEncoder, and the differences in the values of the learned parameters.\n",
    "\n",
    "LabelEncoder.fit(...) accepts a 1D array; LabelEncoder.classes_ is 1D\n",
    "OrdinalEncoder.fit(...) accepts a 2D array; OrdinalEncoder.categories_ is 2D.\n",
    "    LabelEncoder().fit(['a','b']).classes_\n",
    "    # >>> array(['a', 'b'], dtype='<U1')\n",
    "    \n",
    "    OrdinalEncoder().fit([['a'], ['b']]).categories_\n",
    "    # >>> [array(['a', 'b'], dtype=object)]"
   ]
  },
  {
   "cell_type": "code",
   "execution_count": 1,
   "metadata": {},
   "outputs": [],
   "source": [
    "import pandas as pd"
   ]
  },
  {
   "cell_type": "code",
   "execution_count": 5,
   "metadata": {},
   "outputs": [
    {
     "name": "stdout",
     "output_type": "stream",
     "text": [
      "{'NO': [1, 2, 3, 4, 5, 6, 7], 'Name': ['Tom', 'Harry', 'John', 'Nancy', 'Mike', 'Kate', 'Mary'], 'Sex': ['M', 'M', 'M', 'F', 'M', 'F', 'F'], 'Blood': ['O', 'A', 'A', 'B', 'O', 'AB', 'O'], 'Study': ['Math', 'Math', 'English', 'Biology', 'Math', 'English', 'Science']}\n"
     ]
    }
   ],
   "source": [
    "data= {\"NO\": [1,2,3,4,5,6,7] , \n",
    "       \"Name\": [\"Tom\",\"Harry\",\"John\",\"Nancy\",\"Mike\",\"Kate\",\"Mary\"],\n",
    "       \"Sex\" : [\"M\",\"M\",\"M\",\"F\",\"M\",\"F\",\"F\"],\n",
    "       \"Blood\" : [\"O\",\"A\",\"A\",\"B\",\"O\",\"AB\",\"O\"],\n",
    "       \"Study\" : [\"Math\",\"Math\",\"English\",\"Biology\",\"Math\",\"English\",\"Science\"],\n",
    "       \n",
    "}\n",
    "print(data)"
   ]
  },
  {
   "cell_type": "code",
   "execution_count": 7,
   "metadata": {},
   "outputs": [
    {
     "data": {
      "text/html": [
       "<div>\n",
       "<style scoped>\n",
       "    .dataframe tbody tr th:only-of-type {\n",
       "        vertical-align: middle;\n",
       "    }\n",
       "\n",
       "    .dataframe tbody tr th {\n",
       "        vertical-align: top;\n",
       "    }\n",
       "\n",
       "    .dataframe thead th {\n",
       "        text-align: right;\n",
       "    }\n",
       "</style>\n",
       "<table border=\"1\" class=\"dataframe\">\n",
       "  <thead>\n",
       "    <tr style=\"text-align: right;\">\n",
       "      <th></th>\n",
       "      <th>NO</th>\n",
       "      <th>Name</th>\n",
       "      <th>Sex</th>\n",
       "      <th>Blood</th>\n",
       "      <th>Study</th>\n",
       "    </tr>\n",
       "  </thead>\n",
       "  <tbody>\n",
       "    <tr>\n",
       "      <th>0</th>\n",
       "      <td>1</td>\n",
       "      <td>Tom</td>\n",
       "      <td>M</td>\n",
       "      <td>O</td>\n",
       "      <td>Math</td>\n",
       "    </tr>\n",
       "    <tr>\n",
       "      <th>1</th>\n",
       "      <td>2</td>\n",
       "      <td>Harry</td>\n",
       "      <td>M</td>\n",
       "      <td>A</td>\n",
       "      <td>Math</td>\n",
       "    </tr>\n",
       "    <tr>\n",
       "      <th>2</th>\n",
       "      <td>3</td>\n",
       "      <td>John</td>\n",
       "      <td>M</td>\n",
       "      <td>A</td>\n",
       "      <td>English</td>\n",
       "    </tr>\n",
       "    <tr>\n",
       "      <th>3</th>\n",
       "      <td>4</td>\n",
       "      <td>Nancy</td>\n",
       "      <td>F</td>\n",
       "      <td>B</td>\n",
       "      <td>Biology</td>\n",
       "    </tr>\n",
       "    <tr>\n",
       "      <th>4</th>\n",
       "      <td>5</td>\n",
       "      <td>Mike</td>\n",
       "      <td>M</td>\n",
       "      <td>O</td>\n",
       "      <td>Math</td>\n",
       "    </tr>\n",
       "    <tr>\n",
       "      <th>5</th>\n",
       "      <td>6</td>\n",
       "      <td>Kate</td>\n",
       "      <td>F</td>\n",
       "      <td>AB</td>\n",
       "      <td>English</td>\n",
       "    </tr>\n",
       "    <tr>\n",
       "      <th>6</th>\n",
       "      <td>7</td>\n",
       "      <td>Mary</td>\n",
       "      <td>F</td>\n",
       "      <td>O</td>\n",
       "      <td>Science</td>\n",
       "    </tr>\n",
       "  </tbody>\n",
       "</table>\n",
       "</div>"
      ],
      "text/plain": [
       "   NO   Name Sex Blood    Study\n",
       "0   1    Tom   M     O     Math\n",
       "1   2  Harry   M     A     Math\n",
       "2   3   John   M     A  English\n",
       "3   4  Nancy   F     B  Biology\n",
       "4   5   Mike   M     O     Math\n",
       "5   6   Kate   F    AB  English\n",
       "6   7   Mary   F     O  Science"
      ]
     },
     "execution_count": 7,
     "metadata": {},
     "output_type": "execute_result"
    }
   ],
   "source": [
    "data1 = pd.DataFrame(data)\n",
    "data1"
   ]
  },
  {
   "cell_type": "code",
   "execution_count": 8,
   "metadata": {},
   "outputs": [],
   "source": [
    "from sklearn.preprocessing import OrdinalEncoder"
   ]
  },
  {
   "cell_type": "code",
   "execution_count": 17,
   "metadata": {},
   "outputs": [
    {
     "data": {
      "text/html": [
       "<div>\n",
       "<style scoped>\n",
       "    .dataframe tbody tr th:only-of-type {\n",
       "        vertical-align: middle;\n",
       "    }\n",
       "\n",
       "    .dataframe tbody tr th {\n",
       "        vertical-align: top;\n",
       "    }\n",
       "\n",
       "    .dataframe thead th {\n",
       "        text-align: right;\n",
       "    }\n",
       "</style>\n",
       "<table border=\"1\" class=\"dataframe\">\n",
       "  <thead>\n",
       "    <tr style=\"text-align: right;\">\n",
       "      <th></th>\n",
       "      <th>NO</th>\n",
       "      <th>Name</th>\n",
       "      <th>Sex</th>\n",
       "      <th>Blood</th>\n",
       "      <th>Study</th>\n",
       "    </tr>\n",
       "  </thead>\n",
       "  <tbody>\n",
       "    <tr>\n",
       "      <th>0</th>\n",
       "      <td>1</td>\n",
       "      <td>Tom</td>\n",
       "      <td>1.0</td>\n",
       "      <td>3.0</td>\n",
       "      <td>2.0</td>\n",
       "    </tr>\n",
       "    <tr>\n",
       "      <th>1</th>\n",
       "      <td>2</td>\n",
       "      <td>Harry</td>\n",
       "      <td>1.0</td>\n",
       "      <td>0.0</td>\n",
       "      <td>2.0</td>\n",
       "    </tr>\n",
       "    <tr>\n",
       "      <th>2</th>\n",
       "      <td>3</td>\n",
       "      <td>John</td>\n",
       "      <td>1.0</td>\n",
       "      <td>0.0</td>\n",
       "      <td>1.0</td>\n",
       "    </tr>\n",
       "    <tr>\n",
       "      <th>3</th>\n",
       "      <td>4</td>\n",
       "      <td>Nancy</td>\n",
       "      <td>0.0</td>\n",
       "      <td>2.0</td>\n",
       "      <td>0.0</td>\n",
       "    </tr>\n",
       "    <tr>\n",
       "      <th>4</th>\n",
       "      <td>5</td>\n",
       "      <td>Mike</td>\n",
       "      <td>1.0</td>\n",
       "      <td>3.0</td>\n",
       "      <td>2.0</td>\n",
       "    </tr>\n",
       "    <tr>\n",
       "      <th>5</th>\n",
       "      <td>6</td>\n",
       "      <td>Kate</td>\n",
       "      <td>0.0</td>\n",
       "      <td>1.0</td>\n",
       "      <td>1.0</td>\n",
       "    </tr>\n",
       "    <tr>\n",
       "      <th>6</th>\n",
       "      <td>7</td>\n",
       "      <td>Mary</td>\n",
       "      <td>0.0</td>\n",
       "      <td>3.0</td>\n",
       "      <td>3.0</td>\n",
       "    </tr>\n",
       "  </tbody>\n",
       "</table>\n",
       "</div>"
      ],
      "text/plain": [
       "   NO   Name  Sex  Blood  Study\n",
       "0   1    Tom  1.0    3.0    2.0\n",
       "1   2  Harry  1.0    0.0    2.0\n",
       "2   3   John  1.0    0.0    1.0\n",
       "3   4  Nancy  0.0    2.0    0.0\n",
       "4   5   Mike  1.0    3.0    2.0\n",
       "5   6   Kate  0.0    1.0    1.0\n",
       "6   7   Mary  0.0    3.0    3.0"
      ]
     },
     "execution_count": 17,
     "metadata": {},
     "output_type": "execute_result"
    }
   ],
   "source": [
    "enco_ord = OrdinalEncoder()\n",
    "data1[[\"Sex\",\"Blood\", \"Study\"]] = enco_ord.fit_transform(data1[[\"Sex\",\"Blood\", \"Study\"]])\n",
    "data1"
   ]
  },
  {
   "cell_type": "code",
   "execution_count": 27,
   "metadata": {},
   "outputs": [
    {
     "name": "stdout",
     "output_type": "stream",
     "text": [
      "['__class__', '__delattr__', '__dict__', '__dir__', '__doc__', '__eq__', '__format__', '__ge__', '__getattribute__', '__getstate__', '__gt__', '__hash__', '__init__', '__init_subclass__', '__le__', '__lt__', '__module__', '__ne__', '__new__', '__reduce__', '__reduce_ex__', '__repr__', '__setattr__', '__setstate__', '__sizeof__', '__str__', '__subclasshook__', '__weakref__', '_check_X', '_check_n_features', '_fit', '_get_feature', '_get_param_names', '_get_tags', '_more_tags', '_repr_html_', '_repr_html_inner', '_repr_mimebundle_', '_transform', '_validate_data', 'categories', 'categories_', 'dtype', 'fit', 'fit_transform', 'get_params', 'inverse_transform', 'set_params', 'transform']\n",
      "[array([0., 1.]), array([0., 1., 2., 3.]), array([0., 1., 2., 3.])]\n"
     ]
    }
   ],
   "source": [
    "print(dir(enco_ord))\n",
    "print(enco_ord.categories_)"
   ]
  }
 ],
 "metadata": {
  "kernelspec": {
   "display_name": "Python 3",
   "language": "python",
   "name": "python3"
  },
  "language_info": {
   "codemirror_mode": {
    "name": "ipython",
    "version": 3
   },
   "file_extension": ".py",
   "mimetype": "text/x-python",
   "name": "python",
   "nbconvert_exporter": "python",
   "pygments_lexer": "ipython3",
   "version": "3.8.5"
  }
 },
 "nbformat": 4,
 "nbformat_minor": 4
}
